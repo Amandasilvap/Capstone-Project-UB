{
 "cells": [
  {
   "cell_type": "markdown",
   "metadata": {},
   "source": [
    "# Notas\n",
    "- El score es 0 porque busca match perfecto. Usa todos los items, no solo los candidate ya que este set los tiene todos\n",
    "- Para evaluar usando la web tenemos que devolver 100 items ordenador por session\n",
    "- Clustering no he podido completar, si alguien lo tiene implementado puede añadirlo"
   ]
  },
  {
   "cell_type": "code",
   "execution_count": 47,
   "metadata": {
    "scrolled": true
   },
   "outputs": [],
   "source": [
    "import warnings\n",
    "warnings.filterwarnings(\"ignore\", category=DeprecationWarning)\n",
    "warnings.filterwarnings(\"ignore\", category=FutureWarning)\n",
    "warnings.filterwarnings(\"ignore\", category=UserWarning)\n",
    "\n",
    "import pickle\n",
    "import pandas as pd\n",
    "import numpy as np\n",
    "import csv\n",
    "import re\n",
    "from sklearn.cluster import KMeans\n",
    "from sklearn.model_selection import cross_validate\n",
    "from sklearn.metrics import label_ranking_average_precision_score\n",
    "from sklearn.decomposition import PCA\n",
    "from sklearn.model_selection import train_test_split\n",
    "from sklearn.utils import resample\n",
    "from sklearn.ensemble import RandomForestClassifier\n",
    "\n",
    "from sklearn.preprocessing import OneHotEncoder, MultiLabelBinarizer\n",
    "from sklearn.pipeline import Pipeline\n",
    "from sklearn.compose import ColumnTransformer\n",
    "from utils import MultiHotEncoder, load_model, save_model\n",
    "from sklearn.decomposition import TruncatedSVD\n",
    "import matplotlib.pyplot as plt\n",
    "\n",
    "def capstone_score(model, x_test, y_real, n=100):\n",
    "    _classes = model.classes_\n",
    "    y_pred = _classes[np.flip(model.predict_proba(x_test).argsort())]\n",
    "    scores = []\n",
    "    for _y_true, _y_pred in zip(y_real, y_pred):\n",
    "        index=np.where(_y_pred[:n] == _y_true)[0]\n",
    "        if not index:\n",
    "            pred_score = 0\n",
    "        else:\n",
    "            pred_score = 1/index[0]\n",
    "        scores.append(pred_score)\n",
    "    return np.mean(scores)\n",
    "    "
   ]
  },
  {
   "cell_type": "code",
   "execution_count": null,
   "metadata": {},
   "outputs": [],
   "source": []
  },
  {
   "cell_type": "markdown",
   "metadata": {},
   "source": [
    "# Read Data"
   ]
  },
  {
   "cell_type": "markdown",
   "metadata": {},
   "source": [
    "# Selection\n",
    "## Keep only sessions that purchased a candidate item"
   ]
  },
  {
   "cell_type": "code",
   "execution_count": 13,
   "metadata": {},
   "outputs": [
    {
     "name": "stdout",
     "output_type": "stream",
     "text": [
      "(4743820, 3), (2085385, 3)\n"
     ]
    }
   ],
   "source": [
    "candidate_items = pd.read_csv('dressipi_recsys2022/candidate_items.csv', dtype=str)['item_id']\n",
    "\n",
    "df_p = pd.read_csv('dressipi_recsys2022/train_purchases.csv', parse_dates=['date'], dtype={'item_id': str, 'session_id':int})\n",
    "df_p = df_p[df_p['item_id'].isin(candidate_items)]\n",
    "candidate_sessions = df_p['session_id']\n",
    "\n",
    "df_s = pd.read_csv('dressipi_recsys2022/train_sessions.csv', parse_dates=['date'], dtype={'item_id': str, 'session_id':int})\n",
    "print(df_s.shape, end=', ')\n",
    "df_s = df_s[df_s['session_id'].isin(candidate_sessions)]\n",
    "print(df_s.shape)\n"
   ]
  },
  {
   "cell_type": "code",
   "execution_count": 14,
   "metadata": {},
   "outputs": [],
   "source": [
    "items_viewed_by_session = df_s.groupby('session_id')['item_id'].unique()"
   ]
  },
  {
   "cell_type": "code",
   "execution_count": 5,
   "metadata": {},
   "outputs": [],
   "source": [
    "assert (items_viewed_by_session.index == df_p['session_id']).all()"
   ]
  },
  {
   "cell_type": "markdown",
   "metadata": {},
   "source": [
    "# KMeans"
   ]
  },
  {
   "cell_type": "code",
   "execution_count": 56,
   "metadata": {},
   "outputs": [
    {
     "name": "stderr",
     "output_type": "stream",
     "text": [
      "Exception ignored in: <generator object iter_fields at 0x7f46263b6500>\n",
      "Traceback (most recent call last):\n",
      "  File \"/home/jano/miniconda3/envs/capstone/lib/python3.10/ast.py\", line 254, in iter_fields\n",
      "    yield field, getattr(node, field)\n",
      "KeyboardInterrupt: \n",
      "\n",
      "KeyboardInterrupt\n",
      "\n"
     ]
    }
   ],
   "source": [
    "# Transfom data to a series with index the item_id and values the list of features associated to the item_id\n",
    "df_f = pd.read_csv('dressipi_recsys2022/item_features.csv', dtype='str')\n",
    "features_by_item = df_f.groupby('item_id')['feature_category_id'].unique()\n",
    "\n",
    "mlb_kmeans = MultiLabelBinarizer(sparse_output=False)\n",
    "feature_by_item_mlb = mlb_kmeans.fit_transform(features_by_item)"
   ]
  },
  {
   "cell_type": "code",
   "execution_count": 7,
   "metadata": {},
   "outputs": [
    {
     "name": "stdout",
     "output_type": "stream",
     "text": [
      "1\n",
      "2\n",
      "3\n",
      "4\n",
      "5\n",
      "6\n",
      "7\n",
      "8\n",
      "9\n",
      "10\n",
      "11\n",
      "12\n",
      "13\n",
      "14\n"
     ]
    },
    {
     "data": {
      "image/png": "[encoded data removed]",
      "text/plain": [
       "<Figure size 1152x576 with 1 Axes>"
      ]
     },
     "metadata": {
      "needs_background": "light"
     },
     "output_type": "display_data"
    }
   ],
   "source": [
    "from concurrent.futures import ThreadPoolExecutor, as_completed \n",
    "\n",
    "kmeanmodels = dict()\n",
    "\n",
    "K = range(1,15,1)\n",
    "\n",
    "for k in K:\n",
    "    print(k)\n",
    "    kmeanmodels[k] = KMeans(n_clusters=k)\n",
    "    kmeanmodels[k].fit(feature_by_item_mlb)\n",
    "\n",
    "    distortions = [kmeanmodels[x].inertia_ for x in kmeanmodels]\n",
    "import matplotlib.pyplot as plt\n",
    "plt.figure(figsize=(16,8))\n",
    "plt.plot(K, distortions, 'bx-')\n",
    "plt.xlabel('k')\n",
    "plt.ylabel('Distortion')\n",
    "plt.title('The Elbow Method showing the optimal k')\n",
    "plt.show()"
   ]
  },
  {
   "cell_type": "code",
   "execution_count": 57,
   "metadata": {},
   "outputs": [],
   "source": [
    "# Select 4 clusters based on elbow method"
   ]
  },
  {
   "cell_type": "code",
   "execution_count": 18,
   "metadata": {},
   "outputs": [
    {
     "ename": "NameError",
     "evalue": "name 'features_by_item' is not defined",
     "output_type": "error",
     "traceback": [
      "\u001b[0;31m---------------------------------------------------------------------------\u001b[0m",
      "\u001b[0;31mNameError\u001b[0m                                 Traceback (most recent call last)",
      "Input \u001b[0;32mIn [18]\u001b[0m, in \u001b[0;36m<cell line: 2>\u001b[0;34m()\u001b[0m\n\u001b[1;32m      1\u001b[0m n_clusters \u001b[38;5;241m=\u001b[39m \u001b[38;5;241m4\u001b[39m\n\u001b[0;32m----> 2\u001b[0m item_to_cluster \u001b[38;5;241m=\u001b[39m \u001b[38;5;28mdict\u001b[39m(\u001b[38;5;28mzip\u001b[39m(\u001b[43mfeatures_by_item\u001b[49m\u001b[38;5;241m.\u001b[39mindex, kmeanmodels[n_clusters]\u001b[38;5;241m.\u001b[39mpredict(feature_by_item_mlb)))\n",
      "\u001b[0;31mNameError\u001b[0m: name 'features_by_item' is not defined"
     ]
    }
   ],
   "source": [
    "# Create a dictionary with item to cluster to map in all_data\n",
    "n_clusters = 4\n",
    "item_to_cluster = dict(zip(features_by_item.index, kmeanmodels[n_clusters].predict(feature_by_item_mlb)))"
   ]
  },
  {
   "cell_type": "code",
   "execution_count": 10,
   "metadata": {},
   "outputs": [],
   "source": [
    "df_s['cluster'] = df_s['item_id'].map(item_to_cluster)\n",
    "clusters_viewed_by_session = df_s.groupby('session_id')['cluster'].unique()"
   ]
  },
  {
   "cell_type": "code",
   "execution_count": 11,
   "metadata": {},
   "outputs": [],
   "source": [
    "assert (clusters_viewed_by_session.index==df_p['session_id']).all()"
   ]
  },
  {
   "cell_type": "code",
   "execution_count": 12,
   "metadata": {},
   "outputs": [],
   "source": [
    "last_seen = df_s.sort_values(['session_id', 'date'], ascending=[True, False]).drop_duplicates(subset='session_id').set_index('session_id')['item_id']\n",
    "first_seen = df_s.sort_values(['session_id', 'date'], ascending=[True, True]).drop_duplicates(subset='session_id').set_index('session_id')['item_id']"
   ]
  },
  {
   "cell_type": "code",
   "execution_count": 13,
   "metadata": {},
   "outputs": [],
   "source": [
    "# Add all data in sigle DF to feed the pipeline\n",
    "all_data = df_p.set_index('session_id').copy()\n",
    "all_data['items'] = items_viewed_by_session\n",
    "all_data['clusters'] = clusters_viewed_by_session\n",
    "all_data['last_seen'] = last_seen\n",
    "all_data['first_seen'] = first_seen"
   ]
  },
  {
   "cell_type": "code",
   "execution_count": 8,
   "metadata": {},
   "outputs": [],
   "source": [
    "# Save data to read on demand and require less memory\n",
    "save_model(all_data, 'data.pkl')"
   ]
  },
  {
   "cell_type": "markdown",
   "metadata": {},
   "source": [
    "# Feature size comparison (i.e, number of features that would be generated by using different sets of data. Due to massive data/model sizes, only items by session and clusters by sessions are used."
   ]
  },
  {
   "cell_type": "code",
   "execution_count": 20,
   "metadata": {},
   "outputs": [
    {
     "name": "stdout",
     "output_type": "stream",
     "text": [
      "Items by session: 18604 features\n",
      "Clusters by session: 4 features\n",
      "First item by session: 15139 features\n",
      "Last item by session: 15449 features\n"
     ]
    }
   ],
   "source": [
    "print(f\"Items by session: {df_s['item_id'].nunique()} features\")\n",
    "print(f\"Clusters by session: {n_clusters} features\")\n",
    "print(f\"First item by session: {all_data['last_seen'].nunique()} features\")\n",
    "print(f\"Last item by session: {all_data['first_seen'].nunique()} features\")"
   ]
  },
  {
   "cell_type": "markdown",
   "metadata": {},
   "source": [
    "# For memory porpoises, use only 50% of data for training"
   ]
  },
  {
   "cell_type": "code",
   "execution_count": 7,
   "metadata": {},
   "outputs": [],
   "source": [
    "all_data = load_model('data.pkl')\n",
    "train_size = 0.5\n",
    "X_train, X_test, y_train, y_test = train_test_split(all_data, all_data['item_id'], random_state=42, train_size=train_size)\n"
   ]
  },
  {
   "cell_type": "markdown",
   "metadata": {},
   "source": [
    "# Build Pipeline with transformations"
   ]
  },
  {
   "cell_type": "code",
   "execution_count": null,
   "metadata": {
    "scrolled": true
   },
   "outputs": [],
   "source": [
    "# Transformation pipeline consists on two main parts:\n",
    "\n",
    "from sklearn.ensemble import RandomForestClassifier\n",
    "from sklearn.preprocessing import OneHotEncoder, MultiLabelBinarizer\n",
    "from sklearn.pipeline import Pipeline\n",
    "from sklearn.compose import ColumnTransformer\n",
    "from utils import MultiHotEncoder\n",
    "from sklearn.decomposition import TruncatedSVD\n",
    "from sklearn.linear_model import SGDClassifier\n",
    "\n",
    "svd_components = 5000\n",
    "# svd_components = 50\n",
    "# First, transformation that will take items_by_session and clusters by session and turn them into multihot-sparse matrixes\n",
    "column_transformer = ColumnTransformer([\n",
    "    ('items_by_session', MultiHotEncoder(), ['items']), # ~18604\n",
    "    ('clusters_by_session', MultiHotEncoder(), ['clusters']), # ~4\n",
    "#     ('first_seen', OneHotEncoder(), ['first_seen']), # ~15449 \n",
    "#     ('last_seen', OneHotEncoder(), ['last_seen']), # ~15139\n",
    "    ])\n",
    "_x = column_transformer.fit_transform(X_train)\n",
    "del X_train\n",
    "save_model(column_transformer, 'column_transformer.pkl'); del column_transformer\n",
    "column_transformer = load_model('column_transformer.pkl')\n",
    "\n",
    "# Second, the resulting sparse matrix will be feed to TruncatedSVD to reduce the dimensionality. 5000 features were selected as it keept ~90% of information (explained variance ratio) while keeping the number of features somewhat under control\n",
    "# This train and transform is very time and memory consuming, therefore the result will be saved so that the model can be freed from memory.\n",
    "tsvd = TruncatedSVD(n_components=svd_components, random_state=42)\n",
    "_x = tsvd.fit_transform(_x)\n",
    "print(sum(tsvd.explained_variance_ratio_))\n",
    "save_model(tsvd, 'tsvd.pkl'); del tsvd\n",
    "tsvd = load_model('tsvd.pkl')\n",
    "print(2)\n",
    "\n",
    "all_transformations = Pipeline([('column_transformer', column_transformer), ('tsvd',tsvd)])\n",
    "del column_transformer, tsvd\n",
    "save_model(all_transformations, 'all_transformations.pkl')\n",
    "\n",
    "save_model(_x, 'X_train_transformed.pkl')\n",
    "save_model(all_transformations.transform(X_test, 'X_test_transformed.pkl'))"
   ]
  },
  {
   "cell_type": "markdown",
   "metadata": {},
   "source": [
    "# Train"
   ]
  },
  {
   "cell_type": "code",
   "execution_count": 55,
   "metadata": {},
   "outputs": [],
   "source": [
    "# Train random forest. Increasing max_depth increases model size exponentially, thus limiting the depth that can be used in a home computer.\n",
    "# depth of 25 was achieved with 32GB of RAM and 200GB of SWAP.\n",
    "rfc = RandomForestClassifier(max_depth=3)\n",
    "for i in list(range(3,14, 2)) + [25]:\n",
    "    rfc.fit(load_model('X_train_transformed.pkl'), y_train)\n",
    "    save_model(rfc, 'rfc_{i}.pkl')"
   ]
  },
  {
   "cell_type": "markdown",
   "metadata": {},
   "source": [
    "# Model size depending on n_samples"
   ]
  },
  {
   "cell_type": "code",
   "execution_count": null,
   "metadata": {},
   "outputs": [],
   "source": [
    "import os\n",
    "depths = []\n",
    "sizes = []\n",
    "for f in os.listdir('.'):\n",
    "    a = re.search(r'rfc_(\\d*)\\.pkl', f)\n",
    "    if a:\n",
    "        depths.append(int(a.group(1)))\n",
    "        sizes.append(os.path.getsize(f))\n",
    "\n",
    "plt.scatter(depths, sizes, linewidths=1, )\n",
    "plt.xlabel('max_depth')\n",
    "plt.ylabel('Size in 10Gb')\n",
    "plt.title('Model size by max_depth')\n",
    "plt.show()\n",
    "\n",
    "plt.pyplot.scatter(sizes, depths)\n",
    "plt.show()\n"
   ]
  },
  {
   "cell_type": "code",
   "execution_count": null,
   "metadata": {},
   "outputs": [
    {
     "name": "stderr",
     "output_type": "stream",
     "text": [
      "[Parallel(n_jobs=7)]: Using backend ThreadingBackend with 7 concurrent workers.\n"
     ]
    }
   ],
   "source": [
    "capstone_score(load_model('rfc_5.pkl'), load_model('X_test_transformed.pkl'), y_test)"
   ]
  },
  {
   "cell_type": "code",
   "execution_count": null,
   "metadata": {},
   "outputs": [],
   "source": []
  }
 ],
 "metadata": {
  "kernelspec": {
   "display_name": "Python 3 (ipykernel)",
   "language": "python",
   "name": "python3"
  },
  "language_info": {
   "codemirror_mode": {
    "name": "ipython",
    "version": 3
   },
   "file_extension": ".py",
   "mimetype": "text/x-python",
   "name": "python",
   "nbconvert_exporter": "python",
   "pygments_lexer": "ipython3",
   "version": "3.10.4"
  }
 },
 "nbformat": 4,
 "nbformat_minor": 4
}
