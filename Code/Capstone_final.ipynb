{
 "cells": [
  {
   "cell_type": "code",
   "execution_count": 2,
   "metadata": {
    "scrolled": true
   },
   "outputs": [],
   "source": [
    "import warnings\n",
    "warnings.filterwarnings(\"ignore\", category=DeprecationWarning)\n",
    "warnings.filterwarnings(\"ignore\", category=FutureWarning)\n",
    "warnings.filterwarnings(\"ignore\", category=UserWarning)\n",
    "\n",
    "import pickle\n",
    "import pandas as pd\n",
    "import numpy as np\n",
    "import csv\n",
    "import re\n",
    "from sklearn.cluster import KMeans\n",
    "from sklearn.model_selection import cross_validate\n",
    "from sklearn.metrics import label_ranking_average_precision_score\n",
    "from sklearn.decomposition import PCA\n",
    "from sklearn.model_selection import train_test_split\n",
    "from sklearn.utils import resample\n",
    "from sklearn.ensemble import RandomForestClassifier\n",
    "\n",
    "from sklearn.preprocessing import OneHotEncoder, MultiLabelBinarizer, StandardScaler\n",
    "from sklearn.pipeline import Pipeline\n",
    "from sklearn.compose import ColumnTransformer\n",
    "from utils import MultiHotEncoder, load_model, save_model\n",
    "from sklearn.decomposition import TruncatedSVD\n",
    "import matplotlib.pyplot as plt\n",
    "    "
   ]
  },
  {
   "cell_type": "markdown",
   "metadata": {},
   "source": [
    "# 1. Analizando el objetivo del proyecto"
   ]
  },
  {
   "cell_type": "markdown",
   "metadata": {},
   "source": [
    "El challenge Recsys 2022 tiene como objetivo predecir la probabilidad de que un usuario compre uno de los productos presentes en una lista preseleccionada. Para ello, se aportan 1 millon de sesiones que ilustran el recorrido de cada una a través de los diferentes artículos y, en última instancia, el producto adquirido.\n",
    "\n",
    "El total de artículos presentes en el dataset <code>item_features.csv</code> asciende a 23.691 (aunque en el dataset <code>train_sessions.csv</code> sólo se han visualizado 23.496), de los cuales, sólo 4.990 son candidatos a la predicción.\n",
    "\n",
    "En vista de la métrica de evaluación empleada en el challenge se establece que el objetivo de este proyeto es, dada una sesión, ordenar de mayor a menos los 100 artículos candidatos con mayor probabilidad de ser adquiridos al final de la sesión."
   ]
  },
  {
   "cell_type": "markdown",
   "metadata": {},
   "source": [
    "## 1.1. Pregunta interesante que podemos responder con datos"
   ]
  },
  {
   "cell_type": "markdown",
   "metadata": {},
   "source": [
    "### **¿Cuáles son los 100 productos candidatos con mayor probabilidad de ser adquiridos en cada sesión en función de los productos visitados y las características de estos?**"
   ]
  },
  {
   "cell_type": "markdown",
   "metadata": {},
   "source": [
    "# 2. Adquisición de datos"
   ]
  },
  {
   "cell_type": "markdown",
   "metadata": {},
   "source": [
    "Debido a la magnitud del problema y la limitación computacional de los recursos disponibles durante la ejecución de este challenge, se ha decidido limitar las instancias disponibles en el dataset a aquellas que tengan como producto adquirido un producto de la lista de candidatos. Esto es, todas aquellas instancias que tengan como artículo comprado uno que lo aparezca en el dataset <code>candidate_items.csv</code> serán eliminados del dataset de train.\n",
    "\n",
    "Otro de los métodos que valoramos fue dar una predicción de los 23.691 artículos de <code>item_features.csv</code> y, para la evaluación, considerar únicamente los 4.990 de <code>candidate_items.csv</code>. Sin embargo, por limites de hardware de los equipos empleados en este challenge tuvimos que descartar esta opción.\n",
    "\n",
    "**La lógica empleada, a sabiendas de ser incompleta, supone que todas aquellas sesiones que no acaben en un artículo candidato no aportan información al modelo de aprendizaje automático y pueden ser descartadad.**"
   ]
  },
  {
   "cell_type": "code",
   "execution_count": 3,
   "metadata": {},
   "outputs": [
    {
     "name": "stdout",
     "output_type": "stream",
     "text": [
      "Dataset original sin filtrar:\n",
      "(4743820, 3)\n",
      "\n",
      "Dataset filtrado:\n",
      "(2085385, 3)\n"
     ]
    }
   ],
   "source": [
    "# Dataset de items candidatos donde se incluyen los 4.990 items objetivo.\n",
    "candidate_items = pd.read_csv('dressipi_recsys2022/candidate_items.csv', dtype=str)['item_id']\n",
    "\n",
    "# Dataset de compras durante las sesiones filtrado por aquellas donde item_id se encuentre entre los items candidatos.\n",
    "df_p = pd.read_csv('dressipi_recsys2022/train_purchases.csv', parse_dates=['date'], dtype={'item_id': str, 'session_id':int})\n",
    "df_p = df_p[df_p['item_id'].isin(candidate_items)]\n",
    "candidate_sessions = df_p['session_id']\n",
    "\n",
    "# Dataset de sesiones filtrada por aquellas sesiones que acaban en la adquisición de un producto candidato.\n",
    "df_s = pd.read_csv('dressipi_recsys2022/train_sessions.csv', parse_dates=['date'], dtype={'item_id': str, 'session_id':int})\n",
    "df_s_o = df_s.copy()\n",
    "df_s = df_s[df_s['session_id'].isin(candidate_sessions)]\n",
    "print('Dataset original sin filtrar:')\n",
    "print(df_s_o.shape)\n",
    "print()\n",
    "print('Dataset filtrado:')\n",
    "print(df_s.shape)\n",
    "del df_s_o\n"
   ]
  },
  {
   "cell_type": "markdown",
   "metadata": {},
   "source": [
    "Mediante la decisión tomada, reducimos el dataset de train de 4.743.820 instancias a **menos de la mitad**: 2.085.385 instancias."
   ]
  },
  {
   "cell_type": "code",
   "execution_count": 4,
   "metadata": {},
   "outputs": [],
   "source": [
    "items_viewed_by_session = df_s.groupby('session_id')['item_id'].unique()"
   ]
  },
  {
   "cell_type": "code",
   "execution_count": 5,
   "metadata": {},
   "outputs": [],
   "source": [
    "# Comprobamos que los artículos presentes en el dataset de train so, efectivamente, los candidatos.\n",
    "assert (items_viewed_by_session.index == df_p['session_id']).all()"
   ]
  },
  {
   "cell_type": "code",
   "execution_count": 6,
   "metadata": {},
   "outputs": [],
   "source": [
    "# Dataset de características de producto\n",
    "df_f = pd.read_csv('dressipi_recsys2022/item_features.csv', dtype='str')\n"
   ]
  },
  {
   "cell_type": "markdown",
   "metadata": {},
   "source": [
    "# 3. Análisis de datos"
   ]
  },
  {
   "cell_type": "markdown",
   "metadata": {},
   "source": [
    "## 3.1. Dataset <code>train_purchases.csv </code>"
   ]
  },
  {
   "cell_type": "code",
   "execution_count": 7,
   "metadata": {},
   "outputs": [
    {
     "data": {
      "text/html": [
       "<div>\n",
       "<style scoped>\n",
       "    .dataframe tbody tr th:only-of-type {\n",
       "        vertical-align: middle;\n",
       "    }\n",
       "\n",
       "    .dataframe tbody tr th {\n",
       "        vertical-align: top;\n",
       "    }\n",
       "\n",
       "    .dataframe thead th {\n",
       "        text-align: right;\n",
       "    }\n",
       "</style>\n",
       "<table border=\"1\" class=\"dataframe\">\n",
       "  <thead>\n",
       "    <tr style=\"text-align: right;\">\n",
       "      <th></th>\n",
       "      <th>session_id</th>\n",
       "      <th>item_id</th>\n",
       "      <th>date</th>\n",
       "    </tr>\n",
       "  </thead>\n",
       "  <tbody>\n",
       "    <tr>\n",
       "      <th>1</th>\n",
       "      <td>13</td>\n",
       "      <td>18626</td>\n",
       "      <td>2020-03-13 19:36:15.507</td>\n",
       "    </tr>\n",
       "    <tr>\n",
       "      <th>6</th>\n",
       "      <td>31</td>\n",
       "      <td>8345</td>\n",
       "      <td>2021-04-20 19:46:42.594</td>\n",
       "    </tr>\n",
       "    <tr>\n",
       "      <th>8</th>\n",
       "      <td>42</td>\n",
       "      <td>11784</td>\n",
       "      <td>2021-03-01 15:17:04.264</td>\n",
       "    </tr>\n",
       "    <tr>\n",
       "      <th>17</th>\n",
       "      <td>113</td>\n",
       "      <td>21107</td>\n",
       "      <td>2021-05-05 14:15:07.278</td>\n",
       "    </tr>\n",
       "    <tr>\n",
       "      <th>18</th>\n",
       "      <td>115</td>\n",
       "      <td>25976</td>\n",
       "      <td>2021-05-27 10:24:05.043</td>\n",
       "    </tr>\n",
       "  </tbody>\n",
       "</table>\n",
       "</div>"
      ],
      "text/plain": [
       "    session_id item_id                    date\n",
       "1           13   18626 2020-03-13 19:36:15.507\n",
       "6           31    8345 2021-04-20 19:46:42.594\n",
       "8           42   11784 2021-03-01 15:17:04.264\n",
       "17         113   21107 2021-05-05 14:15:07.278\n",
       "18         115   25976 2021-05-27 10:24:05.043"
      ]
     },
     "execution_count": 7,
     "metadata": {},
     "output_type": "execute_result"
    }
   ],
   "source": [
    "df_p.head()"
   ]
  },
  {
   "cell_type": "markdown",
   "metadata": {},
   "source": [
    "El dataset <code>train_purchases.csv </code> se organiza de forma que cada instancia es el producto comprado en una sesión, **item_id**, y la fecha y hora en que ese producto fue comprado, **date**."
   ]
  },
  {
   "cell_type": "code",
   "execution_count": 8,
   "metadata": {},
   "outputs": [
    {
     "name": "stdout",
     "output_type": "stream",
     "text": [
      "<class 'pandas.core.frame.DataFrame'>\n",
      "Int64Index: 450153 entries, 1 to 999999\n",
      "Data columns (total 3 columns):\n",
      " #   Column      Non-Null Count   Dtype         \n",
      "---  ------      --------------   -----         \n",
      " 0   session_id  450153 non-null  int64         \n",
      " 1   item_id     450153 non-null  object        \n",
      " 2   date        450153 non-null  datetime64[ns]\n",
      "dtypes: datetime64[ns](1), int64(1), object(1)\n",
      "memory usage: 13.7+ MB\n"
     ]
    }
   ],
   "source": [
    "df_p.info()"
   ]
  },
  {
   "cell_type": "code",
   "execution_count": 9,
   "metadata": {},
   "outputs": [
    {
     "name": "stdout",
     "output_type": "stream",
     "text": [
      "Las sesiones se encuentran entre 2020-01-01 01:35:42.278000 y 2021-05-31 23:47:07.764000\n"
     ]
    }
   ],
   "source": [
    "print('Las sesiones se encuentran entre '+str(df_p.date.min())+' y '+str(df_p.date.max()))"
   ]
  },
  {
   "cell_type": "code",
   "execution_count": 10,
   "metadata": {},
   "outputs": [
    {
     "name": "stdout",
     "output_type": "stream",
     "text": [
      "El total de productos comprados es 4877\n"
     ]
    }
   ],
   "source": [
    "print('El total de productos comprados es '+str(df_p['item_id'].nunique()))"
   ]
  },
  {
   "cell_type": "code",
   "execution_count": 11,
   "metadata": {},
   "outputs": [
    {
     "data": {
      "image/png": "[encoded data removed]",
      "text/plain": [
       "<Figure size 432x288 with 1 Axes>"
      ]
     },
     "metadata": {
      "needs_background": "light"
     },
     "output_type": "display_data"
    }
   ],
   "source": [
    "df_p_top_10 = df_p.groupby(by='item_id')['session_id'].count().sort_values(ascending=False)[0:9]\n",
    "df_p_top_10.sort_values(ascending=True).plot(kind='barh')\n",
    "del df_p_top_10"
   ]
  },
  {
   "cell_type": "markdown",
   "metadata": {},
   "source": [
    "Some of the products have been sold over 8.000 times."
   ]
  },
  {
   "cell_type": "code",
   "execution_count": 12,
   "metadata": {},
   "outputs": [
    {
     "data": {
      "image/png": "[encoded data removed]",
      "text/plain": [
       "<Figure size 432x288 with 1 Axes>"
      ]
     },
     "metadata": {
      "needs_background": "light"
     },
     "output_type": "display_data"
    }
   ],
   "source": [
    "df_p_bottom_10 = df_p.groupby(by='item_id')['session_id'].count().sort_values()[0:9]\n",
    "df_p_bottom_10.plot(kind='barh')\n",
    "del df_p_bottom_10"
   ]
  },
  {
   "cell_type": "markdown",
   "metadata": {},
   "source": [
    "While others have been sold just 1 time."
   ]
  },
  {
   "cell_type": "code",
   "execution_count": 13,
   "metadata": {},
   "outputs": [
    {
     "data": {
      "text/plain": [
       "<AxesSubplot:ylabel='Frequency'>"
      ]
     },
     "execution_count": 13,
     "metadata": {},
     "output_type": "execute_result"
    },
    {
     "data": {
      "image/png": "[encoded data removed]",
      "text/plain": [
       "<Figure size 432x288 with 1 Axes>"
      ]
     },
     "metadata": {
      "needs_background": "light"
     },
     "output_type": "display_data"
    }
   ],
   "source": [
    "df_p_times_sold = df_p.groupby(by='item_id')['session_id'].count()\n",
    "df_p_times_sold.plot(kind='hist')"
   ]
  },
  {
   "cell_type": "code",
   "execution_count": 14,
   "metadata": {},
   "outputs": [
    {
     "name": "stdout",
     "output_type": "stream",
     "text": [
      "count    4877.00000\n",
      "mean       92.30121\n",
      "std       215.97481\n",
      "min         1.00000\n",
      "25%        20.00000\n",
      "50%        46.00000\n",
      "75%        92.00000\n",
      "max      8451.00000\n",
      "Name: session_id, dtype: float64\n"
     ]
    }
   ],
   "source": [
    "print(df_p_times_sold.describe())\n",
    "del df_p_times_sold"
   ]
  },
  {
   "cell_type": "markdown",
   "metadata": {},
   "source": [
    "## 3.2. Dataset <code>train_sessions.csv</code>"
   ]
  },
  {
   "cell_type": "code",
   "execution_count": 15,
   "metadata": {},
   "outputs": [
    {
     "data": {
      "text/html": [
       "<div>\n",
       "<style scoped>\n",
       "    .dataframe tbody tr th:only-of-type {\n",
       "        vertical-align: middle;\n",
       "    }\n",
       "\n",
       "    .dataframe tbody tr th {\n",
       "        vertical-align: top;\n",
       "    }\n",
       "\n",
       "    .dataframe thead th {\n",
       "        text-align: right;\n",
       "    }\n",
       "</style>\n",
       "<table border=\"1\" class=\"dataframe\">\n",
       "  <thead>\n",
       "    <tr style=\"text-align: right;\">\n",
       "      <th></th>\n",
       "      <th>session_id</th>\n",
       "      <th>item_id</th>\n",
       "      <th>date</th>\n",
       "    </tr>\n",
       "  </thead>\n",
       "  <tbody>\n",
       "    <tr>\n",
       "      <th>2</th>\n",
       "      <td>13</td>\n",
       "      <td>15654</td>\n",
       "      <td>2020-03-13 19:35:27.136</td>\n",
       "    </tr>\n",
       "    <tr>\n",
       "      <th>36</th>\n",
       "      <td>31</td>\n",
       "      <td>25972</td>\n",
       "      <td>2021-04-20 19:38:03.816</td>\n",
       "    </tr>\n",
       "    <tr>\n",
       "      <th>37</th>\n",
       "      <td>31</td>\n",
       "      <td>16289</td>\n",
       "      <td>2021-04-20 19:39:17.092</td>\n",
       "    </tr>\n",
       "    <tr>\n",
       "      <th>38</th>\n",
       "      <td>31</td>\n",
       "      <td>2069</td>\n",
       "      <td>2021-04-20 19:40:21.952</td>\n",
       "    </tr>\n",
       "    <tr>\n",
       "      <th>39</th>\n",
       "      <td>31</td>\n",
       "      <td>27579</td>\n",
       "      <td>2021-04-20 19:43:43.813</td>\n",
       "    </tr>\n",
       "  </tbody>\n",
       "</table>\n",
       "</div>"
      ],
      "text/plain": [
       "    session_id item_id                    date\n",
       "2           13   15654 2020-03-13 19:35:27.136\n",
       "36          31   25972 2021-04-20 19:38:03.816\n",
       "37          31   16289 2021-04-20 19:39:17.092\n",
       "38          31    2069 2021-04-20 19:40:21.952\n",
       "39          31   27579 2021-04-20 19:43:43.813"
      ]
     },
     "execution_count": 15,
     "metadata": {},
     "output_type": "execute_result"
    }
   ],
   "source": [
    "df_s.head()"
   ]
  },
  {
   "cell_type": "markdown",
   "metadata": {},
   "source": [
    "El dataset <code>train_sessions.csv </code> se organiza de forma que cada instancia es un producto visto en una sesión, **item_id**, y la fecha y hora en que ese producto fue visto, **date**."
   ]
  },
  {
   "cell_type": "code",
   "execution_count": 16,
   "metadata": {},
   "outputs": [
    {
     "name": "stdout",
     "output_type": "stream",
     "text": [
      "<class 'pandas.core.frame.DataFrame'>\n",
      "Int64Index: 2085385 entries, 2 to 4743819\n",
      "Data columns (total 3 columns):\n",
      " #   Column      Dtype         \n",
      "---  ------      -----         \n",
      " 0   session_id  int64         \n",
      " 1   item_id     object        \n",
      " 2   date        datetime64[ns]\n",
      "dtypes: datetime64[ns](1), int64(1), object(1)\n",
      "memory usage: 63.6+ MB\n"
     ]
    }
   ],
   "source": [
    "df_s.info()"
   ]
  },
  {
   "cell_type": "code",
   "execution_count": 17,
   "metadata": {},
   "outputs": [
    {
     "name": "stdout",
     "output_type": "stream",
     "text": [
      "Las sesiones se encuentran entre 2020-01-01 01:21:33.200000 y 2021-05-31 23:43:33.865000\n"
     ]
    }
   ],
   "source": [
    "print('Las sesiones se encuentran entre '+str(df_s.date.min())+' y '+str(df_s.date.max()))"
   ]
  },
  {
   "cell_type": "code",
   "execution_count": 18,
   "metadata": {},
   "outputs": [
    {
     "name": "stdout",
     "output_type": "stream",
     "text": [
      "El total de productos vistos es 18604\n"
     ]
    }
   ],
   "source": [
    "print('El total de productos vistos es '+str(df_s['item_id'].nunique()))"
   ]
  },
  {
   "cell_type": "code",
   "execution_count": 19,
   "metadata": {},
   "outputs": [
    {
     "data": {
      "text/plain": [
       "<AxesSubplot:ylabel='Frequency'>"
      ]
     },
     "execution_count": 19,
     "metadata": {},
     "output_type": "execute_result"
    },
    {
     "data": {
      "image/png": "[encoded data removed]",
      "text/plain": [
       "<Figure size 432x288 with 1 Axes>"
      ]
     },
     "metadata": {
      "needs_background": "light"
     },
     "output_type": "display_data"
    }
   ],
   "source": [
    "df_prod_vist = df_s.groupby(by='session_id')['item_id'].count()\n",
    "df_prod_vist.plot(kind='hist')"
   ]
  },
  {
   "cell_type": "code",
   "execution_count": 20,
   "metadata": {},
   "outputs": [
    {
     "name": "stdout",
     "output_type": "stream",
     "text": [
      "count    450153.000000\n",
      "mean          4.632614\n",
      "std           5.896939\n",
      "min           1.000000\n",
      "25%           1.000000\n",
      "50%           3.000000\n",
      "75%           6.000000\n",
      "max         100.000000\n",
      "Name: item_id, dtype: float64\n"
     ]
    }
   ],
   "source": [
    "print(df_prod_vist.describe())\n",
    "del df_prod_vist"
   ]
  },
  {
   "cell_type": "markdown",
   "metadata": {},
   "source": [
    "La media de productos vistos durante las sesiones es de 4,63 mientras que algunas sesiones llegan a 100 productos visualizados antes de hacer la compra. Estas sesiones con tantos productos visualizados son claramente outliers. **El 75% de las sesiones han visto 6 artículos o menos**."
   ]
  },
  {
   "cell_type": "markdown",
   "metadata": {},
   "source": [
    "## 3.3. Dataset <code>item_features.csv</code>"
   ]
  },
  {
   "cell_type": "code",
   "execution_count": 21,
   "metadata": {},
   "outputs": [
    {
     "data": {
      "text/html": [
       "<div>\n",
       "<style scoped>\n",
       "    .dataframe tbody tr th:only-of-type {\n",
       "        vertical-align: middle;\n",
       "    }\n",
       "\n",
       "    .dataframe tbody tr th {\n",
       "        vertical-align: top;\n",
       "    }\n",
       "\n",
       "    .dataframe thead th {\n",
       "        text-align: right;\n",
       "    }\n",
       "</style>\n",
       "<table border=\"1\" class=\"dataframe\">\n",
       "  <thead>\n",
       "    <tr style=\"text-align: right;\">\n",
       "      <th></th>\n",
       "      <th>item_id</th>\n",
       "      <th>feature_category_id</th>\n",
       "      <th>feature_value_id</th>\n",
       "    </tr>\n",
       "  </thead>\n",
       "  <tbody>\n",
       "    <tr>\n",
       "      <th>0</th>\n",
       "      <td>2</td>\n",
       "      <td>56</td>\n",
       "      <td>365</td>\n",
       "    </tr>\n",
       "    <tr>\n",
       "      <th>1</th>\n",
       "      <td>2</td>\n",
       "      <td>62</td>\n",
       "      <td>801</td>\n",
       "    </tr>\n",
       "    <tr>\n",
       "      <th>2</th>\n",
       "      <td>2</td>\n",
       "      <td>68</td>\n",
       "      <td>351</td>\n",
       "    </tr>\n",
       "    <tr>\n",
       "      <th>3</th>\n",
       "      <td>2</td>\n",
       "      <td>33</td>\n",
       "      <td>802</td>\n",
       "    </tr>\n",
       "    <tr>\n",
       "      <th>4</th>\n",
       "      <td>2</td>\n",
       "      <td>72</td>\n",
       "      <td>75</td>\n",
       "    </tr>\n",
       "  </tbody>\n",
       "</table>\n",
       "</div>"
      ],
      "text/plain": [
       "  item_id feature_category_id feature_value_id\n",
       "0       2                  56              365\n",
       "1       2                  62              801\n",
       "2       2                  68              351\n",
       "3       2                  33              802\n",
       "4       2                  72               75"
      ]
     },
     "execution_count": 21,
     "metadata": {},
     "output_type": "execute_result"
    }
   ],
   "source": [
    "df_f.head()"
   ]
  },
  {
   "cell_type": "markdown",
   "metadata": {},
   "source": [
    "El dataset <code>item_features.csv </code> se organiza de forma que cada instancia representa una característica de un producto, **feature_category_id**, y el valor que esta toma, **feature_value_id** **item_id**. Cada producto (**item_id**) puede tener un número **n** de características valoradas."
   ]
  },
  {
   "cell_type": "code",
   "execution_count": 22,
   "metadata": {},
   "outputs": [
    {
     "data": {
      "text/plain": [
       "count    23691.000000\n",
       "mean        19.912667\n",
       "std          5.130942\n",
       "min          2.000000\n",
       "25%         17.000000\n",
       "50%         20.000000\n",
       "75%         24.000000\n",
       "max         33.000000\n",
       "Name: feature_category_id, dtype: float64"
      ]
     },
     "execution_count": 22,
     "metadata": {},
     "output_type": "execute_result"
    }
   ],
   "source": [
    "df_f.groupby(by='item_id')['feature_category_id'].count().describe()"
   ]
  },
  {
   "cell_type": "markdown",
   "metadata": {},
   "source": [
    "Los productos tienen una media de 19,91 características, con un mínimo de 2 y un máximo de 33."
   ]
  },
  {
   "cell_type": "code",
   "execution_count": 23,
   "metadata": {},
   "outputs": [
    {
     "data": {
      "text/plain": [
       "count     471751\n",
       "unique        73\n",
       "top           56\n",
       "freq       23691\n",
       "Name: feature_category_id, dtype: object"
      ]
     },
     "execution_count": 23,
     "metadata": {},
     "output_type": "execute_result"
    }
   ],
   "source": [
    "df_f['feature_category_id'].describe()"
   ]
  },
  {
   "cell_type": "markdown",
   "metadata": {},
   "source": [
    "Existen un total de 73 características distintas."
   ]
  },
  {
   "cell_type": "code",
   "execution_count": 24,
   "metadata": {},
   "outputs": [
    {
     "data": {
      "text/plain": [
       "count    471751.000000\n",
       "mean        486.345578\n",
       "std         258.865151\n",
       "min           1.000000\n",
       "25%         273.000000\n",
       "50%         512.000000\n",
       "75%         708.000000\n",
       "max         905.000000\n",
       "Name: feature_value_id, dtype: float64"
      ]
     },
     "execution_count": 24,
     "metadata": {},
     "output_type": "execute_result"
    }
   ],
   "source": [
    "df_f['feature_value_id'].astype(int).describe()"
   ]
  },
  {
   "cell_type": "markdown",
   "metadata": {},
   "source": [
    "Los valores de las características son tremendamente dispares, con mínimo de 1 y máximo de 905 y una desviación estándar de 258,86."
   ]
  },
  {
   "cell_type": "markdown",
   "metadata": {},
   "source": [
    "Analizado el dataset de <code>item_features.csv</code>, llegamos a la conclusión de que no podemos extraer demasiados insights de valor de este dataset. Incluso en la descripción del challenge se establece que una misma combinación variable - valor puede representar algo distinto en función del producto al que haga referencia.\n",
    "\n",
    "La conclusión a la que llega este equipo es que la mejor forma de emplear este dataset será crear clústers K-Means que, de alguna forma, agrupen las 73 características y sus valores en una serie de clústers que simplifiquen su comprensión y posterior procesado. Este procesado se realizará en el apartado **4. Feature engineerin**."
   ]
  },
  {
   "cell_type": "markdown",
   "metadata": {},
   "source": [
    "# 4. Feature engineering"
   ]
  },
  {
   "cell_type": "markdown",
   "metadata": {},
   "source": [
    "**Cabe remarcar que, a pesar de que este notebook incluya múltiples elementos de feature engineering, para el modelado final se ha optado por dejar todos estos elementos fuera del train. Esta decisión se ha tomado en base a las limitaciones establecidas al inicio de este notebook respecto al hardware necesario para procesar los datasets disponibles.**"
   ]
  },
  {
   "cell_type": "markdown",
   "metadata": {},
   "source": [
    "## 4.1. Clusterizado K-Means de características de productos"
   ]
  },
  {
   "cell_type": "markdown",
   "metadata": {},
   "source": [
    "Debido a la descripción del challenge aportada, tenemos que decidir si incluimos los valores que toman las características o no.\n",
    "\n",
    "Según lo entendido por este equipo, la característica color (p.ej) es común a todos los artículos (p.ej: feature_category_id = 7). Sin embargo, el color rojo, representado en feature_value_id varía en función del tipo de artículo (p.ej, en camisetas toma el valor 108 y en pantalones el valor 210).\n",
    "\n",
    "Realizaremos 3 pruebas distintas:\n",
    "- Considerando únicamente la feature_category (**Opción 1**)\n",
    "- Considerando la combinación feature_category y feature_value (**Opción 2**)"
   ]
  },
  {
   "cell_type": "markdown",
   "metadata": {},
   "source": [
    "### 4.1.1. Opción 1"
   ]
  },
  {
   "cell_type": "code",
   "execution_count": 25,
   "metadata": {},
   "outputs": [
    {
     "data": {
      "text/plain": [
       "item_id\n",
       "10       [56, 15, 63, 12, 30, 61, 50, 69, 7, 72, 62, 68...\n",
       "100      [56, 30, 61, 8, 7, 69, 26, 70, 25, 32, 57, 14,...\n",
       "10000    [18, 3, 46, 5, 19, 73, 68, 63, 50, 69, 55, 61,...\n",
       "10001    [12, 62, 4, 7, 34, 17, 46, 69, 73, 72, 68, 65,...\n",
       "10002    [68, 72, 11, 7, 26, 19, 34, 59, 50, 61, 56, 73...\n",
       "Name: feature_category_id, dtype: object"
      ]
     },
     "execution_count": 25,
     "metadata": {},
     "output_type": "execute_result"
    }
   ],
   "source": [
    "# Transformamos el dataset item_features a una serie cuyo índice es el item_id los valores de la lista serán las features que tienen estos artículos\n",
    "features_by_item = df_f.groupby('item_id')['feature_category_id'].unique()\n",
    "\n",
    "features_by_item.head()\n"
   ]
  },
  {
   "cell_type": "code",
   "execution_count": 31,
   "metadata": {},
   "outputs": [],
   "source": [
    "mlb_kmeans = MultiLabelBinarizer(sparse_output=False)\n",
    "feature_by_item_mlb = mlb_kmeans.fit_transform(features_by_item)"
   ]
  },
  {
   "cell_type": "code",
   "execution_count": 32,
   "metadata": {},
   "outputs": [
    {
     "name": "stdout",
     "output_type": "stream",
     "text": [
      "1\n",
      "2\n",
      "3\n",
      "4\n",
      "5\n",
      "6\n",
      "7\n",
      "8\n",
      "9\n",
      "10\n",
      "11\n",
      "12\n",
      "13\n",
      "14\n"
     ]
    },
    {
     "data": {
      "image/png": "[encoded data removed]",
      "text/plain": [
       "<Figure size 1152x576 with 1 Axes>"
      ]
     },
     "metadata": {
      "needs_background": "light"
     },
     "output_type": "display_data"
    }
   ],
   "source": [
    "from concurrent.futures import ThreadPoolExecutor, as_completed \n",
    "\n",
    "kmeanmodels = dict()\n",
    "\n",
    "K = range(1,15,1)\n",
    "\n",
    "for k in K:\n",
    "    print(k)\n",
    "    kmeanmodels[k] = KMeans(n_clusters=k)\n",
    "    kmeanmodels[k].fit(feature_by_item_mlb)\n",
    "\n",
    "    distortions = [kmeanmodels[x].inertia_ for x in kmeanmodels]\n",
    "import matplotlib.pyplot as plt\n",
    "plt.figure(figsize=(16,8))\n",
    "plt.plot(K, distortions, 'bx-')\n",
    "plt.xlabel('k')\n",
    "plt.ylabel('Distortion')\n",
    "plt.title('The Elbow Method showing the optimal k')\n",
    "plt.show()"
   ]
  },
  {
   "cell_type": "markdown",
   "metadata": {},
   "source": [
    "### 4.1.2. Opción 2"
   ]
  },
  {
   "cell_type": "code",
   "execution_count": 27,
   "metadata": {},
   "outputs": [
    {
     "data": {
      "text/html": [
       "<div>\n",
       "<style scoped>\n",
       "    .dataframe tbody tr th:only-of-type {\n",
       "        vertical-align: middle;\n",
       "    }\n",
       "\n",
       "    .dataframe tbody tr th {\n",
       "        vertical-align: top;\n",
       "    }\n",
       "\n",
       "    .dataframe thead th {\n",
       "        text-align: right;\n",
       "    }\n",
       "</style>\n",
       "<table border=\"1\" class=\"dataframe\">\n",
       "  <thead>\n",
       "    <tr style=\"text-align: right;\">\n",
       "      <th></th>\n",
       "      <th>item_id</th>\n",
       "      <th>feature_category_id</th>\n",
       "      <th>feature_value_id</th>\n",
       "      <th>cat_and_value</th>\n",
       "    </tr>\n",
       "  </thead>\n",
       "  <tbody>\n",
       "    <tr>\n",
       "      <th>0</th>\n",
       "      <td>2</td>\n",
       "      <td>56</td>\n",
       "      <td>365</td>\n",
       "      <td>56-365</td>\n",
       "    </tr>\n",
       "    <tr>\n",
       "      <th>1</th>\n",
       "      <td>2</td>\n",
       "      <td>62</td>\n",
       "      <td>801</td>\n",
       "      <td>62-801</td>\n",
       "    </tr>\n",
       "    <tr>\n",
       "      <th>2</th>\n",
       "      <td>2</td>\n",
       "      <td>68</td>\n",
       "      <td>351</td>\n",
       "      <td>68-351</td>\n",
       "    </tr>\n",
       "    <tr>\n",
       "      <th>3</th>\n",
       "      <td>2</td>\n",
       "      <td>33</td>\n",
       "      <td>802</td>\n",
       "      <td>33-802</td>\n",
       "    </tr>\n",
       "    <tr>\n",
       "      <th>4</th>\n",
       "      <td>2</td>\n",
       "      <td>72</td>\n",
       "      <td>75</td>\n",
       "      <td>72-75</td>\n",
       "    </tr>\n",
       "  </tbody>\n",
       "</table>\n",
       "</div>"
      ],
      "text/plain": [
       "  item_id feature_category_id feature_value_id cat_and_value\n",
       "0       2                  56              365        56-365\n",
       "1       2                  62              801        62-801\n",
       "2       2                  68              351        68-351\n",
       "3       2                  33              802        33-802\n",
       "4       2                  72               75         72-75"
      ]
     },
     "execution_count": 27,
     "metadata": {},
     "output_type": "execute_result"
    }
   ],
   "source": [
    "df_f_2=df_f.copy()\n",
    "df_f_2.loc[:,'cat_and_value']=df_f_2['feature_category_id']+\"-\"+df_f_2['feature_value_id']\n",
    "\n",
    "df_f_2.head()\n"
   ]
  },
  {
   "cell_type": "code",
   "execution_count": 28,
   "metadata": {},
   "outputs": [
    {
     "data": {
      "text/plain": [
       "item_id\n",
       "10       [56-365, 15-451, 63-816, 12-410, 30-564, 61-70...\n",
       "100      [56-365, 30-482, 61-706, 30-478, 8-323, 7-490,...\n",
       "10000    [18-289, 3-793, 46-825, 5-605, 19-765, 73-544,...\n",
       "10001    [12-699, 62-801, 4-618, 7-452, 34-275, 17-378,...\n",
       "10002    [68-383, 72-712, 11-109, 7-798, 26-268, 19-765...\n",
       "Name: cat_and_value, dtype: object"
      ]
     },
     "execution_count": 28,
     "metadata": {},
     "output_type": "execute_result"
    }
   ],
   "source": [
    "features_and_values_by_item = df_f_2.groupby('item_id')['cat_and_value'].unique()\n",
    "\n",
    "features_and_values_by_item.head()"
   ]
  },
  {
   "cell_type": "code",
   "execution_count": 29,
   "metadata": {},
   "outputs": [],
   "source": [
    "mlb_kmeans_2 = MultiLabelBinarizer(sparse_output=False)\n",
    "features_and_values_by_item_mlb = mlb_kmeans_2.fit_transform(features_and_values_by_item)"
   ]
  },
  {
   "cell_type": "code",
   "execution_count": 123,
   "metadata": {},
   "outputs": [
    {
     "name": "stdout",
     "output_type": "stream",
     "text": [
      "1\n",
      "2\n",
      "3\n",
      "4\n",
      "5\n",
      "6\n",
      "7\n",
      "8\n",
      "9\n",
      "10\n",
      "11\n",
      "12\n",
      "13\n",
      "14\n"
     ]
    },
    {
     "data": {
      "image/png": "[encoded data removed]",
      "text/plain": [
       "<Figure size 1152x576 with 1 Axes>"
      ]
     },
     "metadata": {
      "needs_background": "light"
     },
     "output_type": "display_data"
    }
   ],
   "source": [
    "kmeanmodels2 = dict()\n",
    "\n",
    "K = range(1,15,1)\n",
    "\n",
    "for k in K:\n",
    "    print(k)\n",
    "    kmeanmodels2[k] = KMeans(n_clusters=k)\n",
    "    kmeanmodels2[k].fit(features_and_values_by_item_mlb)\n",
    "\n",
    "    distortions = [kmeanmodels2[x].inertia_ for x in kmeanmodels2]\n",
    "import matplotlib.pyplot as plt\n",
    "plt.figure(figsize=(16,8))\n",
    "plt.plot(K, distortions, 'bx-')\n",
    "plt.xlabel('k')\n",
    "plt.ylabel('Distortion')\n",
    "plt.title('The Elbow Method showing the optimal k')\n",
    "plt.show()"
   ]
  },
  {
   "cell_type": "markdown",
   "metadata": {},
   "source": [
    "### 4.1.4. Conclusión"
   ]
  },
  {
   "cell_type": "markdown",
   "metadata": {},
   "source": [
    "Al analizar los 2 clústers, vemos que todos ellos tienen un **K óptimo en 4**.\n",
    "\n",
    "Debido a las limitaciones mencionadas anteriormente, elegimos la opción 1 por simplicidad de cálculo."
   ]
  },
  {
   "cell_type": "code",
   "execution_count": 33,
   "metadata": {},
   "outputs": [],
   "source": [
    "# Creamos un diccionario con los clústers de cada artículo para mapearlo con el dataset de sesiones.\n",
    "n_clusters = 4\n",
    "item_to_cluster = dict(zip(features_by_item.index, kmeanmodels[n_clusters].predict(feature_by_item_mlb)))"
   ]
  },
  {
   "cell_type": "markdown",
   "metadata": {},
   "source": [
    "## 4.2 Otras variables de interés"
   ]
  },
  {
   "cell_type": "markdown",
   "metadata": {},
   "source": [
    "### 4.2.1. Añadimos el total de veces que se ha visualizado cada item"
   ]
  },
  {
   "cell_type": "code",
   "execution_count": 34,
   "metadata": {},
   "outputs": [],
   "source": [
    "df_s['cluster'] = df_s['item_id'].map(item_to_cluster)\n",
    "\n",
    "clusters_viewed_by_session = df_s.groupby('session_id')['cluster'].unique()"
   ]
  },
  {
   "cell_type": "code",
   "execution_count": 35,
   "metadata": {},
   "outputs": [],
   "source": [
    "assert (clusters_viewed_by_session.index==df_p['session_id']).all()"
   ]
  },
  {
   "cell_type": "markdown",
   "metadata": {},
   "source": [
    "### 4.2.2 Añadimos cuál es el primer item y el último item visto en cada sesión."
   ]
  },
  {
   "cell_type": "code",
   "execution_count": 36,
   "metadata": {},
   "outputs": [],
   "source": [
    "last_seen = df_s.sort_values(['session_id', 'date'], ascending=[True, False]).drop_duplicates(subset='session_id').set_index('session_id')['item_id']\n",
    "first_seen = df_s.sort_values(['session_id', 'date'], ascending=[True, True]).drop_duplicates(subset='session_id').set_index('session_id')['item_id']"
   ]
  },
  {
   "cell_type": "markdown",
   "metadata": {},
   "source": [
    "### 4.2.3. Añadimos el total de productos vistos en cada sesión"
   ]
  },
  {
   "cell_type": "code",
   "execution_count": 37,
   "metadata": {},
   "outputs": [],
   "source": [
    "prod_count=df_s.groupby('session_id')['item_id'].count().rename('prod_count')"
   ]
  },
  {
   "cell_type": "markdown",
   "metadata": {},
   "source": [
    "### 4.2.4. Añadimos el total de duración de la sesión y el tiempo por producto"
   ]
  },
  {
   "cell_type": "code",
   "execution_count": 38,
   "metadata": {},
   "outputs": [],
   "source": [
    "# Ordenamos la sesión por fecha\n",
    "session_sorted = df_s.sort_values(by=['date'])\n",
    "\n",
    "# Inicio de la sesión\n",
    "begin_df = session_sorted.groupby('session_id')['date'].first().rename('start_date')\n",
    "\n",
    "# Final de la sesión\n",
    "end_df = session_sorted.groupby('session_id')['date'].last().rename('end_date')\n",
    "\n",
    "# Concatenamos los datasets\n",
    "times_df=pd.concat([begin_df,end_df, prod_count],axis=1)\n",
    "\n",
    "# Ajustamos el formato de fecha\n",
    "times_df['start_date']=pd.to_datetime(times_df['start_date'])\n",
    "times_df['end_date']=pd.to_datetime(times_df['end_date'])\n",
    "\n",
    "# Tiempo total de sesión\n",
    "times_df['time_diff']=(times_df.end_date-times_df.start_date).astype('timedelta64[s]')\n",
    "\n",
    "# Tiempo total por producto\n",
    "times_df['time_per_prod']=times_df['time_diff']/times_df['prod_count']\n",
    "\n",
    "# Calculamos las diferencias de tiempo\n",
    "times_df['time_diff']=(times_df.end_date-times_df.start_date).astype('timedelta64[s]')"
   ]
  },
  {
   "cell_type": "markdown",
   "metadata": {},
   "source": [
    "### 4.2.5. Añadimos el momento del día en que comienza la sesión"
   ]
  },
  {
   "cell_type": "code",
   "execution_count": 39,
   "metadata": {},
   "outputs": [],
   "source": [
    "mask=(times_df.start_date.dt.hour>=0) & (times_df.start_date.dt.hour<7)\n",
    "times_df.loc[mask,'time_first_prod']='madrugada'\n",
    "mask=(times_df.start_date.dt.hour>=7) & (times_df.start_date.dt.hour<12)\n",
    "times_df.loc[mask,'time_first_prod']='día'\n",
    "mask=(times_df.start_date.dt.hour>=12) & (times_df.start_date.dt.hour<18)\n",
    "times_df.loc[mask,'time_first_prod']='tarde'\n",
    "mask=(times_df.start_date.dt.hour>=18) & (times_df.start_date.dt.hour<24)\n",
    "times_df.loc[mask,'time_first_prod']='noche'"
   ]
  },
  {
   "cell_type": "markdown",
   "metadata": {},
   "source": [
    "### 4.2.6. Añadimos el total de veces que se ha visto cada clúster"
   ]
  },
  {
   "cell_type": "code",
   "execution_count": 40,
   "metadata": {},
   "outputs": [],
   "source": [
    "df_clust_count = df_s.groupby(['session_id', 'cluster'])['session_id'].aggregate('count').unstack().fillna(0)"
   ]
  },
  {
   "cell_type": "code",
   "execution_count": 41,
   "metadata": {},
   "outputs": [
    {
     "data": {
      "text/html": [
       "<div>\n",
       "<style scoped>\n",
       "    .dataframe tbody tr th:only-of-type {\n",
       "        vertical-align: middle;\n",
       "    }\n",
       "\n",
       "    .dataframe tbody tr th {\n",
       "        vertical-align: top;\n",
       "    }\n",
       "\n",
       "    .dataframe thead th {\n",
       "        text-align: right;\n",
       "    }\n",
       "</style>\n",
       "<table border=\"1\" class=\"dataframe\">\n",
       "  <thead>\n",
       "    <tr style=\"text-align: right;\">\n",
       "      <th>cluster</th>\n",
       "      <th>0</th>\n",
       "      <th>1</th>\n",
       "      <th>2</th>\n",
       "      <th>3</th>\n",
       "    </tr>\n",
       "    <tr>\n",
       "      <th>session_id</th>\n",
       "      <th></th>\n",
       "      <th></th>\n",
       "      <th></th>\n",
       "      <th></th>\n",
       "    </tr>\n",
       "  </thead>\n",
       "  <tbody>\n",
       "    <tr>\n",
       "      <th>13</th>\n",
       "      <td>0.0</td>\n",
       "      <td>0.0</td>\n",
       "      <td>1.0</td>\n",
       "      <td>0.0</td>\n",
       "    </tr>\n",
       "    <tr>\n",
       "      <th>31</th>\n",
       "      <td>0.0</td>\n",
       "      <td>8.0</td>\n",
       "      <td>0.0</td>\n",
       "      <td>0.0</td>\n",
       "    </tr>\n",
       "    <tr>\n",
       "      <th>42</th>\n",
       "      <td>0.0</td>\n",
       "      <td>2.0</td>\n",
       "      <td>2.0</td>\n",
       "      <td>0.0</td>\n",
       "    </tr>\n",
       "    <tr>\n",
       "      <th>113</th>\n",
       "      <td>0.0</td>\n",
       "      <td>4.0</td>\n",
       "      <td>2.0</td>\n",
       "      <td>0.0</td>\n",
       "    </tr>\n",
       "    <tr>\n",
       "      <th>115</th>\n",
       "      <td>8.0</td>\n",
       "      <td>0.0</td>\n",
       "      <td>0.0</td>\n",
       "      <td>0.0</td>\n",
       "    </tr>\n",
       "    <tr>\n",
       "      <th>...</th>\n",
       "      <td>...</td>\n",
       "      <td>...</td>\n",
       "      <td>...</td>\n",
       "      <td>...</td>\n",
       "    </tr>\n",
       "    <tr>\n",
       "      <th>4439954</th>\n",
       "      <td>0.0</td>\n",
       "      <td>1.0</td>\n",
       "      <td>0.0</td>\n",
       "      <td>0.0</td>\n",
       "    </tr>\n",
       "    <tr>\n",
       "      <th>4439986</th>\n",
       "      <td>0.0</td>\n",
       "      <td>0.0</td>\n",
       "      <td>6.0</td>\n",
       "      <td>0.0</td>\n",
       "    </tr>\n",
       "    <tr>\n",
       "      <th>4439990</th>\n",
       "      <td>1.0</td>\n",
       "      <td>8.0</td>\n",
       "      <td>2.0</td>\n",
       "      <td>0.0</td>\n",
       "    </tr>\n",
       "    <tr>\n",
       "      <th>4439994</th>\n",
       "      <td>0.0</td>\n",
       "      <td>1.0</td>\n",
       "      <td>0.0</td>\n",
       "      <td>0.0</td>\n",
       "    </tr>\n",
       "    <tr>\n",
       "      <th>4440001</th>\n",
       "      <td>0.0</td>\n",
       "      <td>5.0</td>\n",
       "      <td>14.0</td>\n",
       "      <td>0.0</td>\n",
       "    </tr>\n",
       "  </tbody>\n",
       "</table>\n",
       "<p>450153 rows × 4 columns</p>\n",
       "</div>"
      ],
      "text/plain": [
       "cluster       0    1     2    3\n",
       "session_id                     \n",
       "13          0.0  0.0   1.0  0.0\n",
       "31          0.0  8.0   0.0  0.0\n",
       "42          0.0  2.0   2.0  0.0\n",
       "113         0.0  4.0   2.0  0.0\n",
       "115         8.0  0.0   0.0  0.0\n",
       "...         ...  ...   ...  ...\n",
       "4439954     0.0  1.0   0.0  0.0\n",
       "4439986     0.0  0.0   6.0  0.0\n",
       "4439990     1.0  8.0   2.0  0.0\n",
       "4439994     0.0  1.0   0.0  0.0\n",
       "4440001     0.0  5.0  14.0  0.0\n",
       "\n",
       "[450153 rows x 4 columns]"
      ]
     },
     "execution_count": 41,
     "metadata": {},
     "output_type": "execute_result"
    }
   ],
   "source": [
    "df_clust_count"
   ]
  },
  {
   "cell_type": "markdown",
   "metadata": {},
   "source": [
    "## 4.3. Unir todo el dataset"
   ]
  },
  {
   "cell_type": "code",
   "execution_count": 42,
   "metadata": {},
   "outputs": [],
   "source": [
    "# Add all data in sigle DF to feed the pipeline\n",
    "all_data = df_p.set_index('session_id').copy()\n",
    "all_data['items'] = items_viewed_by_session\n",
    "all_data['clusters'] = clusters_viewed_by_session\n",
    "all_data['last_seen'] = last_seen\n",
    "all_data['first_seen'] = first_seen\n",
    "all_data['prods_seen'] = prod_count\n",
    "all_data['time_spent'] = times_df['time_diff']\n",
    "all_data['time_per_prod'] = times_df['time_per_prod']\n",
    "all_data = pd.concat([all_data, df_clust_count], axis = 1)"
   ]
  },
  {
   "cell_type": "code",
   "execution_count": 43,
   "metadata": {},
   "outputs": [
    {
     "data": {
      "text/html": [
       "<div>\n",
       "<style scoped>\n",
       "    .dataframe tbody tr th:only-of-type {\n",
       "        vertical-align: middle;\n",
       "    }\n",
       "\n",
       "    .dataframe tbody tr th {\n",
       "        vertical-align: top;\n",
       "    }\n",
       "\n",
       "    .dataframe thead th {\n",
       "        text-align: right;\n",
       "    }\n",
       "</style>\n",
       "<table border=\"1\" class=\"dataframe\">\n",
       "  <thead>\n",
       "    <tr style=\"text-align: right;\">\n",
       "      <th></th>\n",
       "      <th>item_id</th>\n",
       "      <th>date</th>\n",
       "      <th>items</th>\n",
       "      <th>clusters</th>\n",
       "      <th>last_seen</th>\n",
       "      <th>first_seen</th>\n",
       "      <th>prods_seen</th>\n",
       "      <th>time_spent</th>\n",
       "      <th>time_per_prod</th>\n",
       "      <th>0</th>\n",
       "      <th>1</th>\n",
       "      <th>2</th>\n",
       "      <th>3</th>\n",
       "    </tr>\n",
       "    <tr>\n",
       "      <th>session_id</th>\n",
       "      <th></th>\n",
       "      <th></th>\n",
       "      <th></th>\n",
       "      <th></th>\n",
       "      <th></th>\n",
       "      <th></th>\n",
       "      <th></th>\n",
       "      <th></th>\n",
       "      <th></th>\n",
       "      <th></th>\n",
       "      <th></th>\n",
       "      <th></th>\n",
       "      <th></th>\n",
       "    </tr>\n",
       "  </thead>\n",
       "  <tbody>\n",
       "    <tr>\n",
       "      <th>13</th>\n",
       "      <td>18626</td>\n",
       "      <td>2020-03-13 19:36:15.507</td>\n",
       "      <td>[15654]</td>\n",
       "      <td>[2]</td>\n",
       "      <td>15654</td>\n",
       "      <td>15654</td>\n",
       "      <td>1</td>\n",
       "      <td>0.0</td>\n",
       "      <td>0.000</td>\n",
       "      <td>0.0</td>\n",
       "      <td>0.0</td>\n",
       "      <td>1.0</td>\n",
       "      <td>0.0</td>\n",
       "    </tr>\n",
       "    <tr>\n",
       "      <th>31</th>\n",
       "      <td>8345</td>\n",
       "      <td>2021-04-20 19:46:42.594</td>\n",
       "      <td>[25972, 16289, 2069, 27579, 26457, 4230, 264]</td>\n",
       "      <td>[1]</td>\n",
       "      <td>4230</td>\n",
       "      <td>25972</td>\n",
       "      <td>8</td>\n",
       "      <td>439.0</td>\n",
       "      <td>54.875</td>\n",
       "      <td>0.0</td>\n",
       "      <td>8.0</td>\n",
       "      <td>0.0</td>\n",
       "      <td>0.0</td>\n",
       "    </tr>\n",
       "    <tr>\n",
       "      <th>42</th>\n",
       "      <td>11784</td>\n",
       "      <td>2021-03-01 15:17:04.264</td>\n",
       "      <td>[10395, 20523, 17472, 22492]</td>\n",
       "      <td>[2, 1]</td>\n",
       "      <td>17472</td>\n",
       "      <td>20523</td>\n",
       "      <td>4</td>\n",
       "      <td>120.0</td>\n",
       "      <td>30.000</td>\n",
       "      <td>0.0</td>\n",
       "      <td>2.0</td>\n",
       "      <td>2.0</td>\n",
       "      <td>0.0</td>\n",
       "    </tr>\n",
       "    <tr>\n",
       "      <th>113</th>\n",
       "      <td>21107</td>\n",
       "      <td>2021-05-05 14:15:07.278</td>\n",
       "      <td>[2171, 17218, 15738, 19760, 21215, 6187]</td>\n",
       "      <td>[1, 2]</td>\n",
       "      <td>17218</td>\n",
       "      <td>6187</td>\n",
       "      <td>6</td>\n",
       "      <td>3300.0</td>\n",
       "      <td>550.000</td>\n",
       "      <td>0.0</td>\n",
       "      <td>4.0</td>\n",
       "      <td>2.0</td>\n",
       "      <td>0.0</td>\n",
       "    </tr>\n",
       "    <tr>\n",
       "      <th>115</th>\n",
       "      <td>25976</td>\n",
       "      <td>2021-05-27 10:24:05.043</td>\n",
       "      <td>[16631, 19705, 15969, 10442]</td>\n",
       "      <td>[0]</td>\n",
       "      <td>16631</td>\n",
       "      <td>19705</td>\n",
       "      <td>8</td>\n",
       "      <td>36.0</td>\n",
       "      <td>4.500</td>\n",
       "      <td>8.0</td>\n",
       "      <td>0.0</td>\n",
       "      <td>0.0</td>\n",
       "      <td>0.0</td>\n",
       "    </tr>\n",
       "  </tbody>\n",
       "</table>\n",
       "</div>"
      ],
      "text/plain": [
       "           item_id                    date  \\\n",
       "session_id                                   \n",
       "13           18626 2020-03-13 19:36:15.507   \n",
       "31            8345 2021-04-20 19:46:42.594   \n",
       "42           11784 2021-03-01 15:17:04.264   \n",
       "113          21107 2021-05-05 14:15:07.278   \n",
       "115          25976 2021-05-27 10:24:05.043   \n",
       "\n",
       "                                                    items clusters last_seen  \\\n",
       "session_id                                                                     \n",
       "13                                                [15654]      [2]     15654   \n",
       "31          [25972, 16289, 2069, 27579, 26457, 4230, 264]      [1]      4230   \n",
       "42                           [10395, 20523, 17472, 22492]   [2, 1]     17472   \n",
       "113              [2171, 17218, 15738, 19760, 21215, 6187]   [1, 2]     17218   \n",
       "115                          [16631, 19705, 15969, 10442]      [0]     16631   \n",
       "\n",
       "           first_seen  prods_seen  time_spent  time_per_prod    0    1    2  \\\n",
       "session_id                                                                    \n",
       "13              15654           1         0.0          0.000  0.0  0.0  1.0   \n",
       "31              25972           8       439.0         54.875  0.0  8.0  0.0   \n",
       "42              20523           4       120.0         30.000  0.0  2.0  2.0   \n",
       "113              6187           6      3300.0        550.000  0.0  4.0  2.0   \n",
       "115             19705           8        36.0          4.500  8.0  0.0  0.0   \n",
       "\n",
       "              3  \n",
       "session_id       \n",
       "13          0.0  \n",
       "31          0.0  \n",
       "42          0.0  \n",
       "113         0.0  \n",
       "115         0.0  "
      ]
     },
     "execution_count": 43,
     "metadata": {},
     "output_type": "execute_result"
    }
   ],
   "source": [
    "all_data.head()"
   ]
  },
  {
   "cell_type": "code",
   "execution_count": 44,
   "metadata": {},
   "outputs": [],
   "source": [
    "all_data_train = all_data[['item_id', 'date', 'items', 'clusters', 'last_seen', 'first_seen']]"
   ]
  },
  {
   "cell_type": "markdown",
   "metadata": {},
   "source": [
    "## 4.4. Conclusión"
   ]
  },
  {
   "cell_type": "markdown",
   "metadata": {},
   "source": [
    "Hemos mencionado en varias ocasiones las limitaciones de entrenar el modelo por el tamaño del dataset. De cara a facilitar esta tarea, finalmente el equipo decidió incluir únicamente las variables:\n",
    "- item_id\n",
    "- date\n",
    "- items\n",
    "- clusters\n",
    "- last_seen\n",
    "- first_seen"
   ]
  },
  {
   "cell_type": "code",
   "execution_count": 45,
   "metadata": {},
   "outputs": [],
   "source": [
    "# Save data to read on demand and require less memory\n",
    "save_model(all_data_train, 'data.pkl')"
   ]
  },
  {
   "cell_type": "markdown",
   "metadata": {},
   "source": [
    "# 5. Modeling"
   ]
  },
  {
   "cell_type": "markdown",
   "metadata": {},
   "source": [
    "De cara a decidir qué columna de productos utilizaremos (last_seen, first_seen o item_id) queremos entender la cantidad de espacio que vamos a ahorrar empleando una de las que no incluyen todos los productos:"
   ]
  },
  {
   "cell_type": "code",
   "execution_count": 46,
   "metadata": {},
   "outputs": [
    {
     "name": "stdout",
     "output_type": "stream",
     "text": [
      "Items by session: 18604 features\n",
      "Clusters by session: 4 features\n",
      "First item by session: 15139 features\n",
      "Last item by session: 15449 features\n"
     ]
    }
   ],
   "source": [
    "print(f\"Items by session: {df_s['item_id'].nunique()} features\")\n",
    "print(f\"Clusters by session: {n_clusters} features\")\n",
    "print(f\"First item by session: {all_data['last_seen'].nunique()} features\")\n",
    "print(f\"Last item by session: {all_data['first_seen'].nunique()} features\")"
   ]
  },
  {
   "cell_type": "markdown",
   "metadata": {},
   "source": [
    "Emplearemos únicamente items_by_session y clusers de cara al training del modelo"
   ]
  },
  {
   "cell_type": "markdown",
   "metadata": {},
   "source": [
    "## 5.1. Split en train y test"
   ]
  },
  {
   "cell_type": "markdown",
   "metadata": {},
   "source": [
    "Debido a limitaciones de memoria, emplearemos únicamente el 50% de los datos para el training"
   ]
  },
  {
   "cell_type": "code",
   "execution_count": 47,
   "metadata": {},
   "outputs": [],
   "source": [
    "all_data = load_model('data.pkl')\n",
    "train_size = 0.5\n",
    "X_train, X_test, y_train, y_test = train_test_split(all_data, all_data['item_id'], random_state=42, train_size=train_size)\n"
   ]
  },
  {
   "cell_type": "markdown",
   "metadata": {},
   "source": [
    "## 5.2. Construimos el pipeline con las transformaciones"
   ]
  },
  {
   "cell_type": "code",
   "execution_count": 48,
   "metadata": {},
   "outputs": [],
   "source": [
    "\n",
    "from sklearn.ensemble import RandomForestClassifier\n",
    "from sklearn.preprocessing import OneHotEncoder, MultiLabelBinarizer\n",
    "from sklearn.pipeline import Pipeline\n",
    "from sklearn.compose import ColumnTransformer\n",
    "from utils import MultiHotEncoder\n",
    "from sklearn.decomposition import TruncatedSVD\n",
    "from sklearn.linear_model import SGDClassifier"
   ]
  },
  {
   "cell_type": "markdown",
   "metadata": {},
   "source": [
    "Hemos dividido el pipeline en dos partes diferenciadas:\n",
    "- Primero convertimos items_by_session y clusters en matrices multihot-sparse\n",
    "- Se reduce su dimensionalidad vía TruncatedSVD\n",
    "\n",
    "Finalmente se eligen 5.000 características ya que se mantiene el 90% de la información.\n",
    "\n",
    "Esta transformación exigirá mucha memoria por lo que se almacenarán los resultados para liberar memoria de cara al train."
   ]
  },
  {
   "cell_type": "code",
   "execution_count": null,
   "metadata": {
    "scrolled": true
   },
   "outputs": [],
   "source": [
    "# Número de componentes elegidos\n",
    "svd_components = 5000\n",
    "\n",
    "# Transformamos items_by_session y clusters_by_session en una matric multihot-sparse\n",
    "column_transformer = ColumnTransformer([\n",
    "    ('items_by_session', MultiHotEncoder(), ['items']), # ~18604\n",
    "    ('clusters_by_session', MultiHotEncoder(), ['clusters']), # ~4\n",
    "    ])\n",
    "_x = column_transformer.fit_transform(X_train)\n",
    "del X_train\n",
    "save_model(column_transformer, 'column_transformer.pkl'); del column_transformer\n",
    "column_transformer = load_model('column_transformer.pkl')\n",
    "\n",
    "# El resultado se procesa con TruncateSVD para reducir la dimensionalidad\n",
    "tsvd = TruncatedSVD(n_components=svd_components, random_state=42)\n",
    "_x = tsvd.fit_transform(_x)\n",
    "print(sum(tsvd.explained_variance_ratio_))\n",
    "save_model(tsvd, 'tsvd.pkl'); del tsvd\n",
    "tsvd = load_model('tsvd.pkl')\n",
    "print(2)\n",
    "\n",
    "all_transformations = Pipeline([('column_transformer', column_transformer), ('tsvd',tsvd)])\n",
    "del column_transformer, tsvd\n",
    "\n",
    "# Se guarda el modelo para liberar memoria\n",
    "save_model(all_transformations, 'all_transformations.pkl')\n",
    "\n",
    "save_model(_x, 'X_train_transformed.pkl')\n",
    "save_model(all_transformations.transform(X_test, 'X_test_transformed.pkl'))"
   ]
  },
  {
   "cell_type": "markdown",
   "metadata": {},
   "source": [
    "## 5.3. Train"
   ]
  },
  {
   "cell_type": "markdown",
   "metadata": {},
   "source": [
    "Debido a las características del problema, elegimos entrenar un Random Forest y limitar el máximo de profundidad a 25 para adaptarse a las capacidades de computación de nuestros sistemas.\n",
    "\n",
    "Aumentar la profundidad aumentaba exponencialmente las necesidades de computación.\n",
    "\n",
    "Se han requerido 32Gb de RAM y 200GB de SWAP para el entrenamiento del modelo de profundidad 25.\n",
    "\n",
    "Finalmente se elige el modelo de profundidad 3."
   ]
  },
  {
   "cell_type": "code",
   "execution_count": 55,
   "metadata": {},
   "outputs": [],
   "source": [
    "rfc = RandomForestClassifier(max_depth=3)\n",
    "for i in list(range(3,14, 2)) + [25]:\n",
    "    rfc.fit(load_model('X_train_transformed.pkl'), y_train)\n",
    "    "
   ]
  },
  {
   "cell_type": "markdown",
   "metadata": {},
   "source": [
    "### 5.3.1. Tamaño del modelo en función de n_samples"
   ]
  },
  {
   "cell_type": "code",
   "execution_count": 62,
   "metadata": {},
   "outputs": [
    {
     "data": {
      "image/png": "[encoded data removed]",
      "text/plain": [
       "<Figure size 432x288 with 1 Axes>"
      ]
     },
     "metadata": {
      "needs_background": "light"
     },
     "output_type": "display_data"
    },
    {
     "name": "stdout",
     "output_type": "stream",
     "text": [
      "Size by max_depth\n",
      "3 61.852 MiB\n",
      "5 236.705248 MiB\n",
      "7 803.047504 MiB\n",
      "9 2305.597102 MiB\n",
      "11 5507.558752 MiB\n",
      "13 10794.552544 MiB\n",
      "25 90083.626864 MiB\n"
     ]
    }
   ],
   "source": [
    "import os\n",
    "depths = []\n",
    "sizes = []\n",
    "for f in os.listdir('.'):\n",
    "    a = re.search(r'rfc_(\\d*)\\.pkl', f)\n",
    "    if a:\n",
    "        depths.append(int(a.group(1)))\n",
    "        sizes.append(os.path.getsize(f))\n",
    "plt.scatter(depths, sizes, linewidths=1, )\n",
    "plt.xlabel('max_depth')\n",
    "plt.ylabel('Size in 10Gb')\n",
    "plt.title('Model size by max_depth')\n",
    "plt.show()\n",
    "\n",
    "print('Size by max_depth')\n",
    "for i in sorted(depths):\n",
    "    index = (depths.index(i))\n",
    "    print(depths[index], sizes[index]/1000**2, 'MiB')"
   ]
  },
  {
   "cell_type": "markdown",
   "metadata": {},
   "source": [
    "## 5.4. Evaluación del modelo"
   ]
  },
  {
   "cell_type": "markdown",
   "metadata": {},
   "source": [
    "Debido a la particular métrica de evaluación empleada en el challenge RecSys, que considera las 100 mejores predicciones, se ha definido la siguiente función:"
   ]
  },
  {
   "cell_type": "code",
   "execution_count": 63,
   "metadata": {},
   "outputs": [],
   "source": [
    "def capstone_score(model, x_test, y_real, n=100):\n",
    "    _classes = model.classes_\n",
    "    if hasattr(model, 'predict_proba'):\n",
    "        rank_func = model.predict_proba\n",
    "    elif hasattr(model, 'decision_function'):\n",
    "        rank_func = model.decision_function\n",
    "    y_pred = _classes[np.flip(rank_func(x_test).argsort())]\n",
    "    scores = []\n",
    "    for _y_true, _y_pred in zip(y_real, y_pred):\n",
    "        index=np.where(_y_pred[:n] == _y_true)[0]\n",
    "        if not index:\n",
    "            pred_score = 0\n",
    "        else:\n",
    "            pred_score = 1/index[0]\n",
    "        scores.append(pred_score)\n",
    "    return np.mean(scores)"
   ]
  },
  {
   "cell_type": "code",
   "execution_count": null,
   "metadata": {},
   "outputs": [],
   "source": [
    "a, b = resample(load_model('X_test_transformed.pkl'), y_test, n_samples=y_test.shape[0]//2, random_state=42)\n",
    "capstone_score(load_model('rfc_5.pkl'), a,b)"
   ]
  },
  {
   "cell_type": "code",
   "execution_count": null,
   "metadata": {},
   "outputs": [
    {
     "name": "stderr",
     "output_type": "stream",
     "text": [
      "[Parallel(n_jobs=7)]: Using backend ThreadingBackend with 7 concurrent workers.\n",
      "[Parallel(n_jobs=7)]: Done  36 tasks      | elapsed:   21.6s\n",
      "[Parallel(n_jobs=7)]: Done 100 out of 100 | elapsed:   53.0s finished\n"
     ]
    },
    {
     "name": "stdout",
     "output_type": "stream",
     "text": [
      "3:  0.023855667485798922\n"
     ]
    },
    {
     "name": "stderr",
     "output_type": "stream",
     "text": [
      "[Parallel(n_jobs=7)]: Using backend ThreadingBackend with 7 concurrent workers.\n",
      "[Parallel(n_jobs=7)]: Done  36 tasks      | elapsed:   25.1s\n",
      "[Parallel(n_jobs=7)]: Done 100 out of 100 | elapsed:  1.0min finished\n"
     ]
    },
    {
     "name": "stdout",
     "output_type": "stream",
     "text": [
      "5:  0.02324894387677719\n"
     ]
    },
    {
     "name": "stderr",
     "output_type": "stream",
     "text": [
      "[Parallel(n_jobs=7)]: Using backend ThreadingBackend with 7 concurrent workers.\n",
      "[Parallel(n_jobs=7)]: Done  36 tasks      | elapsed:   24.5s\n",
      "[Parallel(n_jobs=7)]: Done 100 out of 100 | elapsed:   59.2s finished\n"
     ]
    },
    {
     "name": "stdout",
     "output_type": "stream",
     "text": [
      "7:  0.022502217429844144\n"
     ]
    },
    {
     "name": "stderr",
     "output_type": "stream",
     "text": [
      "[Parallel(n_jobs=7)]: Using backend ThreadingBackend with 7 concurrent workers.\n",
      "[Parallel(n_jobs=7)]: Done  36 tasks      | elapsed:   24.4s\n",
      "[Parallel(n_jobs=7)]: Done 100 out of 100 | elapsed:   59.7s finished\n"
     ]
    },
    {
     "name": "stdout",
     "output_type": "stream",
     "text": [
      "9:  0.021605093793532166\n"
     ]
    },
    {
     "name": "stderr",
     "output_type": "stream",
     "text": [
      "[Parallel(n_jobs=7)]: Using backend ThreadingBackend with 7 concurrent workers.\n",
      "[Parallel(n_jobs=7)]: Done  36 tasks      | elapsed:   30.1s\n",
      "[Parallel(n_jobs=7)]: Done 100 out of 100 | elapsed:  1.2min finished\n"
     ]
    },
    {
     "name": "stdout",
     "output_type": "stream",
     "text": [
      "11:  0.02081202086998794\n"
     ]
    },
    {
     "name": "stderr",
     "output_type": "stream",
     "text": [
      "[Parallel(n_jobs=7)]: Using backend ThreadingBackend with 7 concurrent workers.\n",
      "[Parallel(n_jobs=7)]: Done  36 tasks      | elapsed:   30.9s\n",
      "[Parallel(n_jobs=7)]: Done 100 out of 100 | elapsed:  1.2min finished\n"
     ]
    },
    {
     "name": "stdout",
     "output_type": "stream",
     "text": [
      "13:  0.019930774654749173\n"
     ]
    }
   ],
   "source": [
    "a, b = resample(load_model('X_test_transformed.pkl'), y_test, n_samples=y_test.shape[0]//5, random_state=42)\n",
    "\n",
    "for i in list(range(3,14, 2)) + [25]:\n",
    "    print(f'{i}: ', capstone_score(load_model(f'rfc_{i}.pkl'), a, b))"
   ]
  },
  {
   "cell_type": "markdown",
   "metadata": {},
   "source": [
    "Oservamos que una mayor profundidad no ayuda a obtener una mejor score, por lo que nos decidimos por una profundidad máxima de 3."
   ]
  },
  {
   "cell_type": "markdown",
   "metadata": {},
   "source": [
    "## 5.5. Comparación con otros modelos lineales"
   ]
  },
  {
   "cell_type": "markdown",
   "metadata": {},
   "source": [
    "Debido a las múltiples decisiones que hemos tomado a lo largo de este proyecto, no existe forma de comparar este resultado con los obtenidos en el challenge RecSys. Por ello, hemos decidido realizar otra predicción con un modelo lineal más simple y comparar los resultados.\n",
    "\n",
    "En este caso particular, y considerando max_depth = 3, el resultado obtenido es **0.02385566748579892** frente a **0.002111074682055869** obtenido con el modelo lineal, suponiendo una mejora de aproximadamente 11 veces.\n",
    "\n",
    "Teniendo en cuenta que existen 4.990 artículos objetivo, y asignarlos aleatoriamente tendría una probabilidad de éxito de 0.0002 (sin considerar el método de evaluación del caso), consideramos que el modelo definido mejora sustancialmente el modelo random y modelos más simples como el lineal."
   ]
  },
  {
   "cell_type": "code",
   "execution_count": 14,
   "metadata": {},
   "outputs": [
    {
     "name": "stdout",
     "output_type": "stream",
     "text": [
      "224076\n",
      "223076\n",
      "222076\n",
      "221076\n",
      "220076\n",
      "219076\n",
      "218076\n",
      "217076\n",
      "216076\n",
      "215076\n",
      "214076\n",
      "213076\n",
      "212076\n",
      "211076\n",
      "210076\n",
      "209076\n",
      "208076\n",
      "207076\n",
      "206076\n",
      "205076\n",
      "204076\n",
      "203076\n",
      "202076\n",
      "201076\n",
      "200076\n",
      "199076\n",
      "198076\n",
      "197076\n",
      "196076\n",
      "195076\n",
      "194076\n",
      "193076\n",
      "192076\n",
      "191076\n",
      "190076\n",
      "189076\n",
      "188076\n",
      "187076\n",
      "186076\n",
      "185076\n",
      "184076\n",
      "183076\n",
      "182076\n",
      "181076\n",
      "180076\n",
      "179076\n",
      "178076\n",
      "177076\n",
      "176076\n",
      "175076\n",
      "174076\n",
      "173076\n",
      "172076\n",
      "171076\n",
      "170076\n",
      "169076\n",
      "168076\n",
      "167076\n",
      "166076\n",
      "165076\n",
      "164076\n",
      "163076\n",
      "162076\n",
      "161076\n",
      "160076\n",
      "159076\n",
      "158076\n",
      "157076\n",
      "156076\n",
      "155076\n",
      "154076\n",
      "153076\n",
      "152076\n",
      "151076\n",
      "150076\n",
      "149076\n",
      "148076\n",
      "147076\n",
      "146076\n",
      "145076\n",
      "144076\n",
      "143076\n",
      "142076\n",
      "141076\n",
      "140076\n",
      "139076\n",
      "138076\n",
      "137076\n",
      "136076\n",
      "135076\n",
      "134076\n",
      "133076\n",
      "132076\n",
      "131076\n",
      "130076\n",
      "129076\n",
      "128076\n",
      "127076\n",
      "126076\n",
      "125076\n",
      "124076\n",
      "123076\n",
      "122076\n",
      "121076\n",
      "120076\n",
      "119076\n",
      "118076\n",
      "117076\n",
      "116076\n",
      "115076\n",
      "114076\n",
      "113076\n",
      "112076\n",
      "111076\n",
      "110076\n",
      "109076\n",
      "108076\n",
      "107076\n",
      "106076\n",
      "105076\n",
      "104076\n",
      "103076\n",
      "102076\n",
      "101076\n",
      "100076\n",
      "99076\n",
      "98076\n",
      "97076\n",
      "96076\n",
      "95076\n",
      "94076\n",
      "93076\n",
      "92076\n",
      "91076\n",
      "90076\n",
      "89076\n",
      "88076\n",
      "87076\n",
      "86076\n",
      "85076\n",
      "84076\n",
      "83076\n",
      "82076\n",
      "81076\n",
      "80076\n",
      "79076\n",
      "78076\n",
      "77076\n",
      "76076\n",
      "75076\n",
      "74076\n",
      "73076\n",
      "72076\n",
      "71076\n",
      "70076\n",
      "69076\n",
      "68076\n",
      "67076\n",
      "66076\n",
      "65076\n",
      "64076\n",
      "63076\n",
      "62076\n",
      "61076\n",
      "60076\n",
      "59076\n",
      "58076\n",
      "57076\n",
      "56076\n",
      "55076\n",
      "54076\n",
      "53076\n",
      "52076\n",
      "51076\n",
      "50076\n",
      "49076\n",
      "48076\n",
      "47076\n",
      "46076\n",
      "45076\n",
      "44076\n",
      "43076\n",
      "42076\n",
      "41076\n",
      "40076\n",
      "39076\n",
      "38076\n",
      "37076\n",
      "36076\n",
      "35076\n",
      "34076\n",
      "33076\n",
      "32076\n",
      "31076\n",
      "30076\n",
      "29076\n",
      "28076\n",
      "27076\n",
      "26076\n",
      "25076\n",
      "24076\n",
      "23076\n",
      "22076\n",
      "21076\n",
      "20076\n",
      "19076\n",
      "18076\n",
      "17076\n",
      "16076\n",
      "15076\n",
      "14076\n",
      "13076\n",
      "12076\n",
      "11076\n",
      "10076\n",
      "9076\n",
      "8076\n",
      "7076\n",
      "6076\n",
      "5076\n",
      "4076\n",
      "3076\n",
      "2076\n",
      "1076\n"
     ]
    },
    {
     "data": {
      "text/html": [
       "<style>#sk-container-id-1 {color: black;background-color: white;}#sk-container-id-1 pre{padding: 0;}#sk-container-id-1 div.sk-toggleable {background-color: white;}#sk-container-id-1 label.sk-toggleable__label {cursor: pointer;display: block;width: 100%;margin-bottom: 0;padding: 0.3em;box-sizing: border-box;text-align: center;}#sk-container-id-1 label.sk-toggleable__label-arrow:before {content: \"▸\";float: left;margin-right: 0.25em;color: #696969;}#sk-container-id-1 label.sk-toggleable__label-arrow:hover:before {color: black;}#sk-container-id-1 div.sk-estimator:hover label.sk-toggleable__label-arrow:before {color: black;}#sk-container-id-1 div.sk-toggleable__content {max-height: 0;max-width: 0;overflow: hidden;text-align: left;background-color: #f0f8ff;}#sk-container-id-1 div.sk-toggleable__content pre {margin: 0.2em;color: black;border-radius: 0.25em;background-color: #f0f8ff;}#sk-container-id-1 input.sk-toggleable__control:checked~div.sk-toggleable__content {max-height: 200px;max-width: 100%;overflow: auto;}#sk-container-id-1 input.sk-toggleable__control:checked~label.sk-toggleable__label-arrow:before {content: \"▾\";}#sk-container-id-1 div.sk-estimator input.sk-toggleable__control:checked~label.sk-toggleable__label {background-color: #d4ebff;}#sk-container-id-1 div.sk-label input.sk-toggleable__control:checked~label.sk-toggleable__label {background-color: #d4ebff;}#sk-container-id-1 input.sk-hidden--visually {border: 0;clip: rect(1px 1px 1px 1px);clip: rect(1px, 1px, 1px, 1px);height: 1px;margin: -1px;overflow: hidden;padding: 0;position: absolute;width: 1px;}#sk-container-id-1 div.sk-estimator {font-family: monospace;background-color: #f0f8ff;border: 1px dotted black;border-radius: 0.25em;box-sizing: border-box;margin-bottom: 0.5em;}#sk-container-id-1 div.sk-estimator:hover {background-color: #d4ebff;}#sk-container-id-1 div.sk-parallel-item::after {content: \"\";width: 100%;border-bottom: 1px solid gray;flex-grow: 1;}#sk-container-id-1 div.sk-label:hover label.sk-toggleable__label {background-color: #d4ebff;}#sk-container-id-1 div.sk-serial::before {content: \"\";position: absolute;border-left: 1px solid gray;box-sizing: border-box;top: 0;bottom: 0;left: 50%;z-index: 0;}#sk-container-id-1 div.sk-serial {display: flex;flex-direction: column;align-items: center;background-color: white;padding-right: 0.2em;padding-left: 0.2em;position: relative;}#sk-container-id-1 div.sk-item {position: relative;z-index: 1;}#sk-container-id-1 div.sk-parallel {display: flex;align-items: stretch;justify-content: center;background-color: white;position: relative;}#sk-container-id-1 div.sk-item::before, #sk-container-id-1 div.sk-parallel-item::before {content: \"\";position: absolute;border-left: 1px solid gray;box-sizing: border-box;top: 0;bottom: 0;left: 50%;z-index: -1;}#sk-container-id-1 div.sk-parallel-item {display: flex;flex-direction: column;z-index: 1;position: relative;background-color: white;}#sk-container-id-1 div.sk-parallel-item:first-child::after {align-self: flex-end;width: 50%;}#sk-container-id-1 div.sk-parallel-item:last-child::after {align-self: flex-start;width: 50%;}#sk-container-id-1 div.sk-parallel-item:only-child::after {width: 0;}#sk-container-id-1 div.sk-dashed-wrapped {border: 1px dashed gray;margin: 0 0.4em 0.5em 0.4em;box-sizing: border-box;padding-bottom: 0.4em;background-color: white;}#sk-container-id-1 div.sk-label label {font-family: monospace;font-weight: bold;display: inline-block;line-height: 1.2em;}#sk-container-id-1 div.sk-label-container {text-align: center;}#sk-container-id-1 div.sk-container {/* jupyter's `normalize.less` sets `[hidden] { display: none; }` but bootstrap.min.css set `[hidden] { display: none !important; }` so we also need the `!important` here to be able to override the default hidden behavior on the sphinx rendered scikit-learn.org. See: https://github.com/scikit-learn/scikit-learn/issues/21755 */display: inline-block !important;position: relative;}#sk-container-id-1 div.sk-text-repr-fallback {display: none;}</style><div id=\"sk-container-id-1\" class=\"sk-top-container\"><div class=\"sk-text-repr-fallback\"><pre>Perceptron()</pre><b>In a Jupyter environment, please rerun this cell to show the HTML representation or trust the notebook. <br />On GitHub, the HTML representation is unable to render, please try loading this page with nbviewer.org.</b></div><div class=\"sk-container\" hidden><div class=\"sk-item\"><div class=\"sk-estimator sk-toggleable\"><input class=\"sk-toggleable__control sk-hidden--visually\" id=\"sk-estimator-id-1\" type=\"checkbox\" checked><label for=\"sk-estimator-id-1\" class=\"sk-toggleable__label sk-toggleable__label-arrow\">Perceptron</label><div class=\"sk-toggleable__content\"><pre>Perceptron()</pre></div></div></div></div></div>"
      ],
      "text/plain": [
       "Perceptron()"
      ]
     },
     "execution_count": 14,
     "metadata": {},
     "output_type": "execute_result"
    }
   ],
   "source": [
    "del _x_train, _x_test, _y_train, _y_test \n",
    "from sklearn.linear_model import Perceptron\n",
    "per = Perceptron()\n",
    "train_size = 1000\n",
    "_x_train, _x_test, _y_train, _y_test = train_test_split(load_model('X_train_transformed.pkl'), y_train, train_size=train_size)\n",
    "while _x_test.shape[0] > 1000:\n",
    "    print(_x_test.shape[0])\n",
    "    per.partial_fit(_x_train, _y_train,classes=y_train)\n",
    "    _x_train, _x_test, _y_train, _y_test = train_test_split(_x_test, _y_test, train_size=train_size)\n",
    "per.partial_fit(_x_test, _y_test)"
   ]
  },
  {
   "cell_type": "code",
   "execution_count": 29,
   "metadata": {},
   "outputs": [
    {
     "data": {
      "text/plain": [
       "0.002111074682055869"
      ]
     },
     "execution_count": 29,
     "metadata": {},
     "output_type": "execute_result"
    }
   ],
   "source": [
    "a, b = resample(load_model('X_test_transformed.pkl'), y_test, n_samples=y_test.shape[0]//2, random_state=42)\n",
    "capstone_score(per, a,b)\n"
   ]
  }
 ],
 "metadata": {
  "kernelspec": {
   "display_name": "Python 3 (ipykernel)",
   "language": "python",
   "name": "python3"
  },
  "language_info": {
   "codemirror_mode": {
    "name": "ipython",
    "version": 3
   },
   "file_extension": ".py",
   "mimetype": "text/x-python",
   "name": "python",
   "nbconvert_exporter": "python",
   "pygments_lexer": "ipython3",
   "version": "3.10.4"
  },
  "vscode": {
   "interpreter": {
    "hash": "3afc891dd077cd0845f7af69acda999ad76c9175ff216dc1b331b8430b8056f4"
   }
  }
 },
 "nbformat": 4,
 "nbformat_minor": 4
}
